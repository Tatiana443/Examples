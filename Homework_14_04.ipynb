{
  "nbformat": 4,
  "nbformat_minor": 0,
  "metadata": {
    "colab": {
      "provenance": [],
      "authorship_tag": "ABX9TyNNpZUgjKFr2mVb1idpnz82",
      "include_colab_link": true
    },
    "kernelspec": {
      "name": "python3",
      "display_name": "Python 3"
    },
    "language_info": {
      "name": "python"
    }
  },
  "cells": [
    {
      "cell_type": "markdown",
      "metadata": {
        "id": "view-in-github",
        "colab_type": "text"
      },
      "source": [
        "<a href=\"https://colab.research.google.com/github/Tatiana443/Examples/blob/main/Homework_14_04.ipynb\" target=\"_parent\"><img src=\"https://colab.research.google.com/assets/colab-badge.svg\" alt=\"Open In Colab\"/></a>"
      ]
    },
    {
      "cell_type": "markdown",
      "source": [],
      "metadata": {
        "id": "8md7qKiqH7xL"
      }
    },
    {
      "cell_type": "markdown",
      "source": [
        "##Задача 1##\n",
        "###Подзадача 1.1###\n",
        "*Оформляйте ноутбук, используя эти советы:\n",
        "Номер задачи - заголовок 2\n",
        "Номер подзадачи - заголовок 3\n",
        "Предоставленные наборы данных оформляйте, как код*"
      ],
      "metadata": {
        "id": "EnCExhocfdeW"
      }
    },
    {
      "cell_type": "markdown",
      "source": [
        "##Задача 2##\n",
        "###Подзадача 2.1###\n",
        "*На складе лежат разные фрукты в разном количестве.\n",
        "Нужно написать функцию, которая на вход принимает любое количество названий фруктов и их количество, а возвращает общее количество фруктов на складе.*\n"
      ],
      "metadata": {
        "id": "JFOuCedCH-hM"
      }
    },
    {
      "cell_type": "code",
      "source": [
        "def fruits(**kwargs):\n",
        "    \n",
        "    all_fruits = sum(kwargs.values())\n",
        "    \n",
        "    return f'fruits: {all_fruits}'"
      ],
      "metadata": {
        "id": "TqWRR8S2IvWh"
      },
      "execution_count": 5,
      "outputs": []
    },
    {
      "cell_type": "code",
      "source": [
        "print(fruits(bananas=8, peach=9, apricot=35, apples=23))"
      ],
      "metadata": {
        "colab": {
          "base_uri": "https://localhost:8080/"
        },
        "id": "mad5TNxHJW3q",
        "outputId": "6cb415ae-87af-4dd6-b6b4-4988bf4852ce"
      },
      "execution_count": 6,
      "outputs": [
        {
          "output_type": "stream",
          "name": "stdout",
          "text": [
            "fruits: 75\n"
          ]
        }
      ]
    },
    {
      "cell_type": "markdown",
      "source": [
        "##Задача 3##\n",
        "###Подзадача 3.1###\n",
        "*Дан список с затратами на рекламу. Но в данных есть ошибки, некоторые затраты имеют отрицательную величину. Удалите такие значения из списка и посчитайте суммарные затраты\n",
        "[100, 125, -90, 345, 655, -1, 0, 200]\n",
        "Используйте list comprehensions*"
      ],
      "metadata": {
        "id": "DapxuxY9LvfA"
      }
    },
    {
      "cell_type": "markdown",
      "source": [],
      "metadata": {
        "id": "-hpU6yRcIWru"
      }
    },
    {
      "cell_type": "code",
      "source": [
        "def costs(data: list):\n",
        "    \n",
        "    new_data = []\n",
        "    \n",
        "    for i in data:\n",
        "        if i > 0:\n",
        "            new_data.append(i)\n",
        "            \n",
        "    print(new_data)\n",
        "    print(f'Total costs: {sum(new_data)}')\n"
      ],
      "metadata": {
        "id": "AAnBh4PgMoSp"
      },
      "execution_count": 9,
      "outputs": []
    },
    {
      "cell_type": "code",
      "source": [
        "data = [100, 125, -90, 345, 655, -1, 0, 200]\n",
        "\n",
        "costs(data)"
      ],
      "metadata": {
        "colab": {
          "base_uri": "https://localhost:8080/"
        },
        "id": "lS-lpwO7P0RM",
        "outputId": "3ce338d7-7008-4d18-9629-47d6253a0d3d"
      },
      "execution_count": 10,
      "outputs": [
        {
          "output_type": "stream",
          "name": "stdout",
          "text": [
            "[100, 125, 345, 655, 200]\n",
            "Total costs: 1425\n"
          ]
        }
      ]
    },
    {
      "cell_type": "code",
      "source": [
        "print([i for i in data if i > 0 ])"
      ],
      "metadata": {
        "colab": {
          "base_uri": "https://localhost:8080/"
        },
        "id": "QGklF_lHPn7Q",
        "outputId": "e3ea91a2-e7a6-4692-e75f-ebac2d1bc92e"
      },
      "execution_count": 11,
      "outputs": [
        {
          "output_type": "stream",
          "name": "stdout",
          "text": [
            "[100, 125, 345, 655, 200]\n"
          ]
        }
      ]
    },
    {
      "cell_type": "code",
      "source": [
        "print(f'Total costs: {sum([i for i in data if i > 0 ])}')"
      ],
      "metadata": {
        "colab": {
          "base_uri": "https://localhost:8080/"
        },
        "id": "oUhlmygMQBI3",
        "outputId": "ea3a11f1-bd01-423e-f11a-ada4452882df"
      },
      "execution_count": 12,
      "outputs": [
        {
          "output_type": "stream",
          "name": "stdout",
          "text": [
            "Total costs: 1425\n"
          ]
        }
      ]
    },
    {
      "cell_type": "markdown",
      "source": [
        "##Задача 4##\n",
        "*Даны два списка.\n",
        "Дата покупки\n",
        "['2021-09-14', '2021-12-15', '2021-09-08', '2021-12-05', '2021-10-09', '2021-09-30', '2021-12-22', '2021-11-29', '2021-12-24', '2021-11-26', '2021-10-27', '2021-12-18', '2021-11-09', '2021-11-23', '2021-09-27', '2021-10-02', '2021-12-27', '2021-09-20', '2021-12-13', '2021-11-01', '2021-11-09', '2021-12-06', '2021-12-08', '2021-10-09', '2021-10-31', '2021-09-30', '2021-11-09', '2021-12-13', '2021-10-26', '2021-12-09']\n",
        "Суммы покупок по датам\n",
        "[1270, 8413, 9028, 3703, 5739, 4095, 295, 4944, 5723, 3701, 4471, 651, 7037, 4274, 6275, 4988, 6930, 2971, 6592, 2004, 2822, 519, 3406, 2732, 5015, 2008, 316, 6333, 5700, 2887]*\n",
        "###Подзадача 4.1###\n",
        "*Найдите, какая выручка у компании в ноябре\n",
        "Используйте list comprehensions*\n",
        "\n"
      ],
      "metadata": {
        "id": "XJELBT-QQNWx"
      }
    },
    {
      "cell_type": "code",
      "source": [
        "date = ['2021-09-14', '2021-12-15', '2021-09-08', '2021-12-05', '2021-10-09', \n",
        "        '2021-09-30', '2021-12-22', '2021-11-29', '2021-12-24', '2021-11-26', \n",
        "        '2021-10-27', '2021-12-18', '2021-11-09', '2021-11-23', '2021-09-27', \n",
        "        '2021-10-02', '2021-12-27', '2021-09-20', '2021-12-13', '2021-11-01', \n",
        "        '2021-11-09', '2021-12-06', '2021-12-08', '2021-10-09', '2021-10-31', \n",
        "        '2021-09-30', '2021-11-09', '2021-12-13', '2021-10-26', '2021-12-09']\n",
        "cost = [1270, 8413, 9028, 3703, 5739, 4095, 295, 4944, 5723, 3701, \n",
        "        4471, 651, 7037, 4274, 6275, 4988, 6930, 2971, 6592, 2004, \n",
        "        2822, 519, 3406, 2732, 5015, 2008, 316, 6333, 5700, 2887]"
      ],
      "metadata": {
        "id": "Mm0xzLdgcG5g"
      },
      "execution_count": 18,
      "outputs": []
    },
    {
      "cell_type": "code",
      "source": [
        "def november(data1: list, data2: list) -> list:\n",
        "\n",
        "        new_data = []\n",
        "\n",
        "        for i in range(len(data1)-1):\n",
        "          if '-11-' in data1[i]:\n",
        "            new_data.append(data2[i])\n",
        "          \n",
        "        return new_data"
      ],
      "metadata": {
        "id": "0nNiBnrAcnLx"
      },
      "execution_count": 19,
      "outputs": []
    },
    {
      "cell_type": "code",
      "source": [
        "print(november(date, cost))\n",
        "print(f'Profit: {sum(november(date, cost))}')"
      ],
      "metadata": {
        "colab": {
          "base_uri": "https://localhost:8080/"
        },
        "id": "LXyaQG4Tcuzx",
        "outputId": "9db06c33-c358-426f-fb4a-f1cb3fcb0029"
      },
      "execution_count": 20,
      "outputs": [
        {
          "output_type": "stream",
          "name": "stdout",
          "text": [
            "[4944, 3701, 7037, 4274, 2004, 2822, 316]\n",
            "Profit: 25098\n"
          ]
        }
      ]
    },
    {
      "cell_type": "code",
      "source": [
        "print([cost[i] for i in range(0, len(date)-1) if \"-11\" in date[i]])\n",
        "print(f'Profit: {sum([cost[i] for i in range(len(date)-1) if \"-11\" in date[i]])}')"
      ],
      "metadata": {
        "colab": {
          "base_uri": "https://localhost:8080/"
        },
        "id": "EXh1G7snc4NJ",
        "outputId": "c53a15df-0f68-4f7b-8827-16690f861fbd"
      },
      "execution_count": 21,
      "outputs": [
        {
          "output_type": "stream",
          "name": "stdout",
          "text": [
            "[4944, 3701, 7037, 4274, 2004, 2822, 316]\n",
            "Profit: 25098\n"
          ]
        }
      ]
    },
    {
      "cell_type": "markdown",
      "source": [
        "###Подзадача 4.2###\n",
        "*Найдите выручку компании в зависимости от месяца\n",
        "Для этого напишите функцию, которая на вход принимает список с датами и список с выручкой, а на выходе словарь, где ключи - это месяцы, а значения - это выручка.\n",
        "Используйте аннотирование типов.*"
      ],
      "metadata": {
        "id": "DbdGiM2Rd0Ls"
      }
    },
    {
      "cell_type": "code",
      "source": [
        "def revenues(data1: list, data2: list) -> dict:\n",
        "    \n",
        "    revenues = {}\n",
        "    \n",
        "    for i in range(len(data1)):\n",
        "        \n",
        "        if date[i].split('-')[1] in revenues.keys():\n",
        "            revenues[date[i].split('-')[1]] += cost[i]\n",
        "        else:\n",
        "            revenues[date[i].split('-')[1]] = cost[i]\n",
        "            \n",
        "    return revenues\n",
        "\n",
        "print(revenues(date, cost))"
      ],
      "metadata": {
        "colab": {
          "base_uri": "https://localhost:8080/"
        },
        "id": "Cw5b1Xv8eE6B",
        "outputId": "4b0611e1-5485-4d94-a7d1-304f7c5dbde8"
      },
      "execution_count": 23,
      "outputs": [
        {
          "output_type": "stream",
          "name": "stdout",
          "text": [
            "{'09': 25647, '12': 45452, '10': 28645, '11': 25098}\n"
          ]
        }
      ]
    }
  ]
}